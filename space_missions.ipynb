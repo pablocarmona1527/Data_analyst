{
 "cells": [
  {
   "cell_type": "markdown",
   "metadata": {},
   "source": [
    "### Librerías"
   ]
  },
  {
   "cell_type": "code",
   "execution_count": 127,
   "metadata": {},
   "outputs": [],
   "source": [
    "import pandas as pd; import numpy as np; import matplotlib.pyplot as plt; import seaborn as sns"
   ]
  },
  {
   "cell_type": "markdown",
   "metadata": {},
   "source": [
    "### Lectura y preprocesamiento de datos"
   ]
  },
  {
   "cell_type": "code",
   "execution_count": 125,
   "metadata": {},
   "outputs": [],
   "source": [
    "df = pd.read_csv('mission_launches.csv').drop(columns=['Unnamed: 0.1','Unnamed: 0'])\n",
    "\n",
    "df.rename(columns={'Company Name':'company',\n",
    "                   'Location':'launch_facility',\n",
    "                   'Datum':'date',\n",
    "                   'Detail':'detail',\n",
    "                   'Status Rocket':'rocket_status',\n",
    "                   ' Rocket':'cost',\n",
    "                   'Status Mission':'mission_status'},\n",
    "          inplace=True)\n",
    "\n",
    "\n",
    "#Cantidad de valores nulos y filas repetidas\n",
    "\n",
    "# print(f'Hay un total de {df.isna().sum().sum()} valores nulos distribuidos así:',\n",
    "#       f'\\nCost: {df[\"cost\"].isna().sum()} ({df[\"cost\"].isna().sum()/df.shape[0]*100:.2f}% del total)')\n",
    "\n",
    "##Conversión de la columna de fechas. Algunos valores de la columna tiene fecha y hora pero otros solo tienen fecha.\n",
    "df['date'] = df['date'].str.replace(' UTC','')\n",
    "\n",
    "def conversor_fechas(fechas):\n",
    "    if ':' in fechas:\n",
    "        return pd.to_datetime(fechas, format= '%a %b %d, %Y %H:%M')\n",
    "    else:\n",
    "        return pd.to_datetime(fechas, format= '%a %b %d, %Y')\n",
    "df['date'] = df['date'].apply(conversor_fechas)\n",
    "\n",
    "df['cost'] = df['cost'].str.replace(',','')\n",
    "df['cost'] = df['cost'].astype(float)\n",
    "\n",
    "##Creación de medidas derivadas\n",
    "\n",
    "df['year'] = df['date'].dt.year\n",
    "df['month'] = df['date'].dt.month\n",
    "\n",
    "##Obtener el país de lanzamiento del cohete\n",
    "df['launch_location'] = df['launch_facility'].str.split(', ').str[-1]\n",
    "\n",
    "##La columna detail tiene el nombre del cohete y la carga que lleva, hay que dividirla\n",
    "\n",
    "df[['rocket','load']] = df['detail'].str.split('|',expand=True)\n",
    "df.drop(columns='detail',inplace=True)\n",
    "\n",
    "##Es necesario reasignar algunos lugares de lanzamiento que no dicen directamente el nombre del país.\n",
    "df['launch_location'].value_counts();\n",
    "\n",
    "dict_changes = {\n",
    "    'New Mexico' : 'USA',\n",
    "    \"Yellow Sea\": 'China',\n",
    "    \"Shahrud Missile Test Site\": \"Iran\",\n",
    "    \"Pacific Missile Range Facility\": 'USA',\n",
    "    \"Barents Sea\": 'Russia',\n",
    "    \"Gran Canaria\": 'USA'\n",
    "}\n",
    "df['launch_location'] = df['launch_location'].replace(dict_changes)\n",
    "\n",
    "##Organizar los datos por fecha\n",
    "\n",
    "df = df.sort_values('date').reset_index(drop=True)"
   ]
  }
 ],
 "metadata": {
  "kernelspec": {
   "display_name": "Python 3",
   "language": "python",
   "name": "python3"
  },
  "language_info": {
   "codemirror_mode": {
    "name": "ipython",
    "version": 3
   },
   "file_extension": ".py",
   "mimetype": "text/x-python",
   "name": "python",
   "nbconvert_exporter": "python",
   "pygments_lexer": "ipython3",
   "version": "3.11.6"
  }
 },
 "nbformat": 4,
 "nbformat_minor": 2
}
